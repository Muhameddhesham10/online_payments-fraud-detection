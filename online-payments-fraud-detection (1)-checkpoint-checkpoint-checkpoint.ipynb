{
 "cells": [
  {
   "cell_type": "markdown",
   "id": "6217dee9",
   "metadata": {
    "papermill": {
     "duration": 0.020204,
     "end_time": "2024-04-29T22:01:08.163665",
     "exception": false,
     "start_time": "2024-04-29T22:01:08.143461",
     "status": "completed"
    },
    "tags": []
   },
   "source": [
    "# ⚑ Importing Libraries"
   ]
  },
  {
   "cell_type": "code",
   "execution_count": null,
   "id": "525e852e",
   "metadata": {
    "papermill": {
     "duration": 2.700329,
     "end_time": "2024-04-29T22:01:10.883817",
     "exception": false,
     "start_time": "2024-04-29T22:01:08.183488",
     "status": "completed"
    },
    "tags": []
   },
   "outputs": [],
   "source": [
    "# Basic Libraries\n",
    "import numpy as np\n",
    "import pandas as pd\n",
    "import seaborn as sns\n",
    "import random\n",
    "import plotly.graph_objects as go\n",
    "import matplotlib.pyplot as plt\n",
    "%matplotlib inline\n",
    "# Models Libraries\n",
    "import cufflinks as cf\n",
    "import plotly.express as px\n",
    "import plotly.offline as py\n",
    "from sklearn.model_selection import train_test_split\n",
    "from sklearn.preprocessing import StandardScaler\n",
    "from sklearn.linear_model import LogisticRegression\n",
    "from sklearn.tree import DecisionTreeClassifier\n",
    "from sklearn.naive_bayes import GaussianNB\n",
    "\n",
    "# Evaluation Metric Libraries\n",
    "from sklearn.metrics import confusion_matrix, ConfusionMatrixDisplay, classification_report, accuracy_score, precision_score, recall_score,f1_score, roc_auc_score\n",
    "\n",
    "# Warnings\n",
    "import warnings\n",
    "warnings.filterwarnings('ignore')"
   ]
  },
  {
   "cell_type": "markdown",
   "id": "aac058e6",
   "metadata": {
    "papermill": {
     "duration": 0.020455,
     "end_time": "2024-04-29T22:01:10.923997",
     "exception": false,
     "start_time": "2024-04-29T22:01:10.903542",
     "status": "completed"
    },
    "tags": []
   },
   "source": [
    "# ⚑ Reading and exploring the dataset"
   ]
  },
  {
   "cell_type": "code",
   "execution_count": null,
   "id": "60aaaf1f",
   "metadata": {
    "papermill": {
     "duration": 22.246949,
     "end_time": "2024-04-29T22:01:33.190437",
     "exception": false,
     "start_time": "2024-04-29T22:01:10.943488",
     "status": "completed"
    },
    "tags": []
   },
   "outputs": [],
   "source": [
    "df = pd.read_csv(r'C:\\Users\\etsh2\\Downloads\\archive (8)\\Transaction.csv')"
   ]
  },
  {
   "cell_type": "code",
   "execution_count": null,
   "id": "0e6ee8da",
   "metadata": {
    "papermill": {
     "duration": 0.031711,
     "end_time": "2024-04-29T22:01:33.242562",
     "exception": false,
     "start_time": "2024-04-29T22:01:33.210851",
     "status": "completed"
    },
    "tags": []
   },
   "outputs": [],
   "source": [
    "df.shape "
   ]
  },
  {
   "cell_type": "code",
   "execution_count": null,
   "id": "39ba86ac",
   "metadata": {
    "papermill": {
     "duration": 0.056959,
     "end_time": "2024-04-29T22:01:33.320100",
     "exception": false,
     "start_time": "2024-04-29T22:01:33.263141",
     "status": "completed"
    },
    "tags": []
   },
   "outputs": [],
   "source": [
    "df.head() "
   ]
  },
  {
   "cell_type": "code",
   "execution_count": null,
   "id": "02589200-63bc-433a-847f-2d18c279c53b",
   "metadata": {},
   "outputs": [],
   "source": [
    "df.tail()"
   ]
  },
  {
   "cell_type": "code",
   "execution_count": null,
   "id": "52154159",
   "metadata": {
    "papermill": {
     "duration": 0.032451,
     "end_time": "2024-04-29T22:01:33.441787",
     "exception": false,
     "start_time": "2024-04-29T22:01:33.409336",
     "status": "completed"
    },
    "tags": []
   },
   "outputs": [],
   "source": [
    "df.dtypes"
   ]
  },
  {
   "cell_type": "code",
   "execution_count": null,
   "id": "54448d7c-acda-403b-9e19-adf415287cf1",
   "metadata": {},
   "outputs": [],
   "source": [
    "df.duplicated().sum()"
   ]
  },
  {
   "cell_type": "code",
   "execution_count": null,
   "id": "4e97428b-70d4-4bfb-a110-87afc28cbc90",
   "metadata": {},
   "outputs": [],
   "source": [
    "df.isnull().sum()"
   ]
  },
  {
   "cell_type": "code",
   "execution_count": null,
   "id": "9038389d-392f-420f-85b7-7344459f47b0",
   "metadata": {},
   "outputs": [],
   "source": [
    "# Assuming df is your original DataFrame\n",
    "sample_df = df.sample(frac=0.15)  # Sample 15% of the rows\n",
    "\n",
    "null_rows = int(0.1 * len(sample_df))  # Sample 10% of the rows\n",
    "null_indices = random.sample(range(len(sample_df)), null_rows)\n",
    "\n",
    "for i in null_indices:\n",
    "    sample_df.iloc[i, :] = np.nan\n",
    "\n",
    "# Concatenate the original dataframe with the sampled dataframe\n",
    "df = pd.concat([df, sample_df])"
   ]
  },
  {
   "cell_type": "code",
   "execution_count": null,
   "id": "bbe5cd6c-cff3-4ea7-bff9-2481f29b9ad8",
   "metadata": {},
   "outputs": [],
   "source": [
    "df.head(10)"
   ]
  },
  {
   "cell_type": "code",
   "execution_count": null,
   "id": "1c378307-413b-4dd2-933f-ea4240ac3a7f",
   "metadata": {},
   "outputs": [],
   "source": [
    "df.tail(20)"
   ]
  },
  {
   "cell_type": "code",
   "execution_count": null,
   "id": "d6153746-ec58-4d3e-b7ef-b845230b87d4",
   "metadata": {},
   "outputs": [],
   "source": [
    "df.duplicated().sum()"
   ]
  },
  {
   "cell_type": "code",
   "execution_count": null,
   "id": "6cfa8c13-bc53-4c2a-908b-c9db6994f24d",
   "metadata": {},
   "outputs": [],
   "source": [
    "df.isnull().sum()"
   ]
  },
  {
   "cell_type": "markdown",
   "id": "a292f4b2",
   "metadata": {
    "papermill": {
     "duration": 0.020303,
     "end_time": "2024-04-29T22:01:33.482590",
     "exception": false,
     "start_time": "2024-04-29T22:01:33.462287",
     "status": "completed"
    },
    "tags": []
   },
   "source": [
    "# ⚑ Handling Missing Values"
   ]
  },
  {
   "cell_type": "code",
   "execution_count": null,
   "id": "a3c2052f",
   "metadata": {
    "papermill": {
     "duration": 2.151788,
     "end_time": "2024-04-29T22:01:35.654965",
     "exception": false,
     "start_time": "2024-04-29T22:01:33.503177",
     "status": "completed"
    },
    "tags": []
   },
   "outputs": [],
   "source": [
    "if df.isnull().values.any():\n",
    "    print('There are missing values in the dataset\\n')\n",
    "    df.dropna(inplace=True)\n",
    "    print('Shape : ', df.shape) \n",
    "else:\n",
    "    print('There aren\\'t missing values in the dataset.')"
   ]
  },
  {
   "cell_type": "code",
   "execution_count": null,
   "id": "8a1a58ea-24e1-4c67-bdba-3a02a5f4bcdc",
   "metadata": {},
   "outputs": [],
   "source": [
    "if df.duplicated().any():\n",
    "    print('There are duplicate values in the dataset\\n')\n",
    "    df.drop_duplicates(inplace=True)\n",
    "    print('Shape after removing duplicates: ', df.shape)\n",
    "else:\n",
    "    print('There aren\\'t duplicate values in the dataset.')"
   ]
  },
  {
   "cell_type": "code",
   "execution_count": null,
   "id": "c1e5508f-1365-4de7-bf82-7a8de8cf03e0",
   "metadata": {},
   "outputs": [],
   "source": [
    "df.duplicated().sum()"
   ]
  },
  {
   "cell_type": "code",
   "execution_count": null,
   "id": "7f97fd3f-cd4a-41f8-a31b-419a73fc60e3",
   "metadata": {},
   "outputs": [],
   "source": [
    "df.isnull().sum()"
   ]
  },
  {
   "cell_type": "code",
   "execution_count": null,
   "id": "12497a36-e200-426d-820d-dcd11869ccca",
   "metadata": {},
   "outputs": [],
   "source": [
    "df.shape"
   ]
  },
  {
   "cell_type": "markdown",
   "id": "6a2945c9",
   "metadata": {
    "papermill": {
     "duration": 0.020556,
     "end_time": "2024-04-29T22:01:35.696840",
     "exception": false,
     "start_time": "2024-04-29T22:01:35.676284",
     "status": "completed"
    },
    "tags": []
   },
   "source": [
    "# ⚑ Data Visualization"
   ]
  },
  {
   "cell_type": "markdown",
   "id": "a5333e37-e74a-4487-86e9-b520408cd5e8",
   "metadata": {
    "tags": []
   },
   "source": [
    "# Histogram Distribution of Amounts"
   ]
  },
  {
   "cell_type": "code",
   "execution_count": null,
   "id": "05b99acb-e9a2-48e5-8478-eada16be54ae",
   "metadata": {},
   "outputs": [],
   "source": [
    "import plotly.express as px\n",
    "fig = px.histogram(df, x='amount', title='Distribution of Transaction Amounts')\n",
    "fig.show()"
   ]
  },
  {
   "cell_type": "markdown",
   "id": "eff7117e-43df-477b-a0e7-c7bd65855fbc",
   "metadata": {
    "tags": []
   },
   "source": [
    "# Pie Chart for Transaction Type"
   ]
  },
  {
   "cell_type": "code",
   "execution_count": null,
   "id": "6810a910-c0ee-49f0-941e-9deab7ccc79d",
   "metadata": {},
   "outputs": [],
   "source": [
    "# Distribution of Transactions Types\n",
    "type = df[\"type\"].value_counts()\n",
    "\n",
    "Names = type.index\n",
    "Value = type.values\n",
    "\n",
    "figure = px.pie(df,\n",
    "                values=Value, \n",
    "                names=Names,\n",
    "                title=\"Distribution of Transaction Type\")\n",
    "figure.show()"
   ]
  },
  {
   "cell_type": "markdown",
   "id": "f4c24c69-1fad-4a95-98f5-ce97575a0bb1",
   "metadata": {
    "tags": []
   },
   "source": [
    "# Scatter Plot between oldbalanceOrg and newbalanceOrig"
   ]
  },
  {
   "cell_type": "code",
   "execution_count": null,
   "id": "54dbf4aa-ed20-47c3-bbd0-86c99c8a51b6",
   "metadata": {},
   "outputs": [],
   "source": [
    "# Scatter Plot\n",
    "sample_df = df.sample(n=80000, random_state=42)\n",
    "scatter_fig = px.scatter(sample_df, x='oldbalanceOrg', y='newbalanceOrig', \n",
    "                         title='Scatter Plot of Old Balance Orig vs New Balance Orig')\n",
    "scatter_fig.show()"
   ]
  },
  {
   "cell_type": "code",
   "execution_count": null,
   "id": "22eed659-3246-4349-883b-d90ad0881b91",
   "metadata": {},
   "outputs": [],
   "source": [
    "import plotly.express as px\n",
    "\n",
    "sample_df = df.sample(n=80000, random_state=42)\n",
    "\n",
    "fig = px.scatter(sample_df, x='oldbalanceOrg', y='amount',\n",
    "                 color='isFraud', color_discrete_map={'Fraud': 'Yellow', 'NO Fraud':'Blue'},\n",
    "                 size_max=100, title='Relationship between Old Balance Org, New Balance Org',\n",
    "                 symbol='step')\n",
    "\n",
    "fig.update_layout(xaxis_title='Old Balance Org', yaxis_title='New Balance Org')\n",
    "\n",
    "fig.show()\n"
   ]
  },
  {
   "cell_type": "code",
   "execution_count": null,
   "id": "cb944f7b-86c4-491b-904f-46240e9a6107",
   "metadata": {},
   "outputs": [],
   "source": [
    "sample_df = df.sample(n=100000, random_state=42)\n",
    "fig = px.scatter(sample_df, x='step', y='amount', color='isFraud',\n",
    "                 labels={'amount': 'Transaction Amount', 'oldbalanceOrg': 'Old Balance Org'},\n",
    "                 title='Transaction Amount vs. Step vs. isFraud')\n",
    "\n",
    "fig.update_layout(width=800, height=600)\n",
    "fig.show()"
   ]
  },
  {
   "cell_type": "markdown",
   "id": "8169a218-d41d-4b8b-b8bd-5b250dc4627a",
   "metadata": {
    "tags": []
   },
   "source": [
    "# Box Plot"
   ]
  },
  {
   "cell_type": "code",
   "execution_count": null,
   "id": "21296ae2-2acc-4bc2-a1e1-959ff5b1c0d1",
   "metadata": {},
   "outputs": [],
   "source": [
    "sample_df = df.sample(n=1500, random_state=42)\n",
    "max_oldbalanceOrg = sample_df['oldbalanceOrg'].max()\n",
    "print(\"Max value in 'oldbalanceOrg':\", max_oldbalanceOrg)\n"
   ]
  },
  {
   "cell_type": "code",
   "execution_count": null,
   "id": "3c75407a-10ec-4ad7-b930-f875220473b9",
   "metadata": {},
   "outputs": [],
   "source": [
    "sample_df = df.sample(n=1500, random_state=42)\n",
    "fig = px.box(sample_df, y=['amount', 'oldbalanceOrg', 'newbalanceOrig', 'oldbalanceDest', 'newbalanceDest'])\n",
    "fig.show()"
   ]
  },
  {
   "cell_type": "code",
   "execution_count": null,
   "id": "822321ac-951e-4925-8029-446f9100a332",
   "metadata": {},
   "outputs": [],
   "source": [
    "import pandas as pd\n",
    "\n",
    "# Assuming df is your DataFrame\n",
    "filtered_df = sample_df.loc[df['isFraud'] == 0].head(1500)\n",
    "min_value = filtered_df['amount'].min()\n",
    "min_value"
   ]
  },
  {
   "cell_type": "code",
   "execution_count": null,
   "id": "56618271-b418-44f9-809c-163b097541d4",
   "metadata": {},
   "outputs": [],
   "source": [
    "import plotly.express as px\n",
    "\n",
    "sample_df = df.sample(n=1500, random_state=42)\n",
    "fig = px.box(sample_df, x=\"isFraud\", y=\"amount\")\n",
    "fig.update_layout(title_text=\"Box Plot of Amount by Fraud Status\")\n",
    "fig.show()"
   ]
  },
  {
   "cell_type": "markdown",
   "id": "b9eadddd-1b2d-4b2a-bf84-e9b261e45168",
   "metadata": {
    "tags": []
   },
   "source": [
    "# Bubble Plot"
   ]
  },
  {
   "cell_type": "code",
   "execution_count": null,
   "id": "ada2d08b-b244-4804-b7b7-b93bd7fdf1db",
   "metadata": {},
   "outputs": [],
   "source": [
    "sample_df = df.sample(n=20000, random_state=42)\n",
    "bubble_fig = px.scatter(sample_df, x='oldbalanceDest', y='newbalanceDest', \n",
    "                        size='amount', color='isFraud',\n",
    "                        title='Bubble Plot of Old Balance Orig vs New Balance Orig with Amount and Fraud')\n",
    "bubble_fig.show()"
   ]
  },
  {
   "cell_type": "markdown",
   "id": "88a0ad58-599f-42ae-9b48-9a4355fc7c87",
   "metadata": {
    "tags": []
   },
   "source": [
    "# Area Plot"
   ]
  },
  {
   "cell_type": "code",
   "execution_count": null,
   "id": "90b500f5-4429-4b35-bbb3-6fc7e9941d55",
   "metadata": {},
   "outputs": [],
   "source": [
    "# Assuming df is your dataframe containing the data\n",
    "sample_df = df.sample(n=50000, random_state=42)\n",
    "\n",
    "# Create area plot with 'isFraud' as color\n",
    "fig_area = px.area(sample_df, x='step', y='amount', title='Area Plot of Amount over Steps', color='isFraud')\n",
    "fig_area.show()\n"
   ]
  },
  {
   "cell_type": "code",
   "execution_count": null,
   "id": "0217fe70-c5ef-4af8-bf93-8e2c8d9b7337",
   "metadata": {},
   "outputs": [],
   "source": [
    "import plotly.graph_objects as go\n",
    "\n",
    "# Assuming df is a Pandas DataFrame\n",
    "fig = go.Figure(data=[go.Histogram(x=df.values, nbinsx=50)])\n",
    "\n",
    "# Customize the figure\n",
    "fig.update_layout(title='Histogram of Data', xaxis_title='Value', yaxis_title='Frequency')\n",
    "\n",
    "# Set the figure size\n",
    "fig.update_layout(width=25*72, height=20*72)\n",
    "\n",
    "# Show the figure\n",
    "fig.show()"
   ]
  },
  {
   "cell_type": "markdown",
   "id": "038e3709",
   "metadata": {
    "papermill": {
     "duration": 0.02127,
     "end_time": "2024-04-29T22:01:52.290589",
     "exception": false,
     "start_time": "2024-04-29T22:01:52.269319",
     "status": "completed"
    },
    "tags": []
   },
   "source": [
    "# ⚑ Analysis and exploration of categories of the \"type\" feature"
   ]
  },
  {
   "cell_type": "code",
   "execution_count": null,
   "id": "f399100d",
   "metadata": {
    "papermill": {
     "duration": 0.612328,
     "end_time": "2024-04-29T22:01:52.924875",
     "exception": false,
     "start_time": "2024-04-29T22:01:52.312547",
     "status": "completed"
    },
    "tags": []
   },
   "outputs": [],
   "source": [
    "# check labels in \"type\" feature\n",
    "df['type'].unique()"
   ]
  },
  {
   "cell_type": "code",
   "execution_count": null,
   "id": "5550139a",
   "metadata": {
    "papermill": {
     "duration": 1.183508,
     "end_time": "2024-04-29T22:01:54.130200",
     "exception": false,
     "start_time": "2024-04-29T22:01:52.946692",
     "status": "completed"
    },
    "tags": []
   },
   "outputs": [],
   "source": [
    "df['type'].value_counts()"
   ]
  },
  {
   "cell_type": "code",
   "execution_count": null,
   "id": "b9272d85-88ce-4682-ab28-ab9ae6992d06",
   "metadata": {},
   "outputs": [],
   "source": [
    "sample_df = df.sample(n=50000, random_state=42)\n",
    "\n",
    "type_counts = sample_df['type'].value_counts().reset_index()\n",
    "type_counts.columns = ['type', 'count']\n",
    "\n",
    "# Create a line plot\n",
    "fig = px.line(type_counts, x='type', y='count', title='Line Plot of Type Counts')\n",
    "fig.show()\n"
   ]
  },
  {
   "cell_type": "markdown",
   "id": "0f41c403",
   "metadata": {
    "papermill": {
     "duration": 0.022226,
     "end_time": "2024-04-29T22:02:01.527065",
     "exception": false,
     "start_time": "2024-04-29T22:02:01.504839",
     "status": "completed"
    },
    "tags": []
   },
   "source": [
    "# ⚑ Label Encoding"
   ]
  },
  {
   "cell_type": "code",
   "execution_count": null,
   "id": "acc9e316",
   "metadata": {
    "papermill": {
     "duration": 5.898978,
     "end_time": "2024-04-29T22:02:07.448358",
     "exception": false,
     "start_time": "2024-04-29T22:02:01.549380",
     "status": "completed"
    },
    "tags": []
   },
   "outputs": [],
   "source": [
    "df['type'].replace({\"CASH_OUT\" : 1 , \"PAYMENT\" : 2 , \"CASH_IN\" : 3 , \"TRANSFER\" : 4 , \"DEBIT\" : 5  }, inplace=True)"
   ]
  },
  {
   "cell_type": "code",
   "execution_count": null,
   "id": "8d9f76e1",
   "metadata": {
    "papermill": {
     "duration": 0.093951,
     "end_time": "2024-04-29T22:02:07.564884",
     "exception": false,
     "start_time": "2024-04-29T22:02:07.470933",
     "status": "completed"
    },
    "tags": []
   },
   "outputs": [],
   "source": [
    "df['type'].value_counts()"
   ]
  },
  {
   "cell_type": "code",
   "execution_count": null,
   "id": "19a99df9-566c-4e6e-9bd4-efd1362c1df7",
   "metadata": {},
   "outputs": [],
   "source": [
    "df[\"isFraud\"] = df[\"isFraud\"].replace({ 0: \"NO Fraud\" , 1: \"Fraud\" })"
   ]
  },
  {
   "cell_type": "code",
   "execution_count": null,
   "id": "2270587c-bd6a-48f2-963a-34d31ca7643c",
   "metadata": {},
   "outputs": [],
   "source": [
    "df['isFraud'].value_counts()"
   ]
  },
  {
   "cell_type": "code",
   "execution_count": null,
   "id": "23eb43a5-d3eb-47f6-90d3-6ccf13f14b0e",
   "metadata": {},
   "outputs": [],
   "source": [
    "import plotly.express as px\n",
    "fig = px.pie(df['isFraud'].value_counts(), names=df['isFraud'].value_counts().index, values=df['isFraud'].value_counts(), title='Distribution of isFraud')\n",
    "fig.show()"
   ]
  },
  {
   "cell_type": "markdown",
   "id": "db64edcc",
   "metadata": {
    "papermill": {
     "duration": 0.023701,
     "end_time": "2024-04-29T22:02:07.742284",
     "exception": false,
     "start_time": "2024-04-29T22:02:07.718583",
     "status": "completed"
    },
    "tags": []
   },
   "source": [
    "# ⚑ Analysis and exploration of categories of the \"isFraud\" feature"
   ]
  },
  {
   "cell_type": "code",
   "execution_count": null,
   "id": "c0559020",
   "metadata": {
    "papermill": {
     "duration": 0.070203,
     "end_time": "2024-04-29T22:02:07.835354",
     "exception": false,
     "start_time": "2024-04-29T22:02:07.765151",
     "status": "completed"
    },
    "tags": []
   },
   "outputs": [],
   "source": [
    "df['isFraud'].unique()"
   ]
  },
  {
   "cell_type": "code",
   "execution_count": null,
   "id": "44f81b08",
   "metadata": {
    "papermill": {
     "duration": 0.095886,
     "end_time": "2024-04-29T22:02:07.954273",
     "exception": false,
     "start_time": "2024-04-29T22:02:07.858387",
     "status": "completed"
    },
    "tags": []
   },
   "outputs": [],
   "source": [
    "df['isFraud'].value_counts()"
   ]
  },
  {
   "cell_type": "code",
   "execution_count": null,
   "id": "b1fd5735-18af-48e2-ba40-a99a65976017",
   "metadata": {},
   "outputs": [],
   "source": [
    "# Assuming 'df' is your DataFrame and 'isFraud' is the column containing 'NO Fraud' and 'Fraud'\n",
    "fraud_counts = df['isFraud'].value_counts()\n",
    "\n",
    "# Get the counts for 'NO Fraud' and 'Fraud'\n",
    "no_fraud_count = fraud_counts.get('NO Fraud', 6354407)\n",
    "fraud_count = fraud_counts.get('Fraud', 8213)\n",
    "\n",
    "print(f\"Number of 'NO Fraud': {no_fraud_count}\")\n",
    "print(f\"Number of 'Fraud': {fraud_count}\")\n"
   ]
  },
  {
   "cell_type": "code",
   "execution_count": null,
   "id": "59b02319-0c64-40fa-afac-bcb9b3b36a49",
   "metadata": {},
   "outputs": [],
   "source": [
    "categories = ['isFraud']\n",
    "values1 = [no_fraud_count]  \n",
    "values2 = [fraud_count]     \n",
    "\n",
    "fig = go.Figure()\n",
    "fig.add_trace(go.Bar(x=categories, y=values1, name='NO Fraud'))\n",
    "fig.add_trace(go.Bar(x=categories, y=values2, name='Fraud'))\n",
    "fig.update_layout(title='Target Counts \\n (isn\\'t Fraud = 0 || is Fraud = 1)', xaxis_title='Categories', yaxis_title='Values',\n",
    "                  barmode='group')\n",
    "fig.show()"
   ]
  },
  {
   "cell_type": "markdown",
   "id": "8664e72d",
   "metadata": {
    "papermill": {
     "duration": 0.02342,
     "end_time": "2024-04-29T22:02:08.375771",
     "exception": false,
     "start_time": "2024-04-29T22:02:08.352351",
     "status": "completed"
    },
    "tags": []
   },
   "source": [
    "# ⚑ Dropping unnecessary features"
   ]
  },
  {
   "cell_type": "code",
   "execution_count": null,
   "id": "0d1f5db2",
   "metadata": {
    "papermill": {
     "duration": 0.194401,
     "end_time": "2024-04-29T22:02:08.593839",
     "exception": false,
     "start_time": "2024-04-29T22:02:08.399438",
     "status": "completed"
    },
    "tags": []
   },
   "outputs": [],
   "source": [
    "df.drop(['nameOrig', 'nameDest'], axis=1, inplace=True)"
   ]
  },
  {
   "cell_type": "code",
   "execution_count": null,
   "id": "682c6e63",
   "metadata": {
    "papermill": {
     "duration": 0.034483,
     "end_time": "2024-04-29T22:02:08.652006",
     "exception": false,
     "start_time": "2024-04-29T22:02:08.617523",
     "status": "completed"
    },
    "tags": []
   },
   "outputs": [],
   "source": [
    "df.columns"
   ]
  },
  {
   "cell_type": "code",
   "execution_count": null,
   "id": "9c485688",
   "metadata": {
    "papermill": {
     "duration": 0.034336,
     "end_time": "2024-04-29T22:02:08.710341",
     "exception": false,
     "start_time": "2024-04-29T22:02:08.676005",
     "status": "completed"
    },
    "tags": []
   },
   "outputs": [],
   "source": [
    "df.shape"
   ]
  },
  {
   "cell_type": "markdown",
   "id": "1f138636",
   "metadata": {
    "papermill": {
     "duration": 0.023872,
     "end_time": "2024-04-29T22:02:08.758733",
     "exception": false,
     "start_time": "2024-04-29T22:02:08.734861",
     "status": "completed"
    },
    "tags": []
   },
   "source": [
    "# ⚑ Correlation"
   ]
  },
  {
   "cell_type": "code",
   "execution_count": null,
   "id": "dda68173-860d-4e0e-a8ce-a4b477968ca8",
   "metadata": {},
   "outputs": [],
   "source": [
    "df[\"isFraud\"] = df[\"isFraud\"].replace({ \"NO Fraud\" : 0 , \"Fraud\" : 1 })"
   ]
  },
  {
   "cell_type": "code",
   "execution_count": null,
   "id": "723436b1-2698-4491-ac83-53309a5bb4b9",
   "metadata": {},
   "outputs": [],
   "source": [
    "df.head()"
   ]
  },
  {
   "cell_type": "code",
   "execution_count": null,
   "id": "91f4f048",
   "metadata": {
    "papermill": {
     "duration": 1.792247,
     "end_time": "2024-04-29T22:02:10.574883",
     "exception": false,
     "start_time": "2024-04-29T22:02:08.782636",
     "status": "completed"
    },
    "tags": []
   },
   "outputs": [],
   "source": [
    "correlation = df.corr()\n",
    "correlation_values = correlation['isFraud'].sort_values(ascending=False)\n",
    "correlation_values"
   ]
  },
  {
   "cell_type": "code",
   "execution_count": null,
   "id": "fb79a6b6-cbcf-4a47-87d6-90b3a3227cca",
   "metadata": {},
   "outputs": [],
   "source": [
    "corr_matrix = df.corr()\n",
    "heatmap = go.Heatmap(z=corr_matrix.values,\n",
    "                     x=corr_matrix.columns,\n",
    "                     y=corr_matrix.columns)\n",
    "\n",
    "layout = go.Layout(\n",
    "    title='Correlation Matrix',\n",
    "    width=600,  \n",
    "    height=400  \n",
    ")\n",
    "\n",
    "fig = go.Figure(data=[heatmap], layout=layout)\n",
    "py.iplot(fig) "
   ]
  },
  {
   "cell_type": "code",
   "execution_count": null,
   "id": "edae5514-09d6-4b78-899d-6205e2583791",
   "metadata": {},
   "outputs": [],
   "source": [
    "corr_matrix = df.corr()\n",
    "plt.figure(figsize=(9,9))  \n",
    "sns.heatmap(corr_matrix, annot=True, cmap='coolwarm', square=True)\n",
    "plt.show()"
   ]
  },
  {
   "cell_type": "markdown",
   "id": "ece1f77c-7763-437d-a4e3-066d34354a8c",
   "metadata": {
    "tags": []
   },
   "source": [
    "# ⚑ Bar Chart for <b>correlation</b>"
   ]
  },
  {
   "cell_type": "code",
   "execution_count": null,
   "id": "d9dab703-31d5-458d-baa9-828f4c53697d",
   "metadata": {},
   "outputs": [],
   "source": [
    "data = {\n",
    "    'Column': correlation_values.index,\n",
    "    'Correlation': correlation_values.values\n",
    "}\n",
    "df_plot = pd.DataFrame(data)\n",
    "\n",
    "# Creating the bar chart\n",
    "fig = px.bar(df_plot, x='Column', y='Correlation', title='Correlation with isFraud')\n",
    "fig.show()"
   ]
  },
  {
   "cell_type": "markdown",
   "id": "fc27c885",
   "metadata": {
    "papermill": {
     "duration": 0.027861,
     "end_time": "2024-04-29T22:02:29.477578",
     "exception": false,
     "start_time": "2024-04-29T22:02:29.449717",
     "status": "completed"
    },
    "tags": []
   },
   "source": [
    "# ⚑ Splitting the data and target"
   ]
  },
  {
   "cell_type": "code",
   "execution_count": null,
   "id": "a791f341",
   "metadata": {
    "papermill": {
     "duration": 0.150322,
     "end_time": "2024-04-29T22:02:29.655780",
     "exception": false,
     "start_time": "2024-04-29T22:02:29.505458",
     "status": "completed"
    },
    "tags": []
   },
   "outputs": [],
   "source": [
    "x = np.array(df[[ \"type\", \"amount\", \"oldbalanceOrg\", \"newbalanceOrig\"]])\n",
    "y = np.array(df[[\"isFraud\"]])"
   ]
  },
  {
   "cell_type": "markdown",
   "id": "d2d0c0a7",
   "metadata": {
    "papermill": {
     "duration": 0.028224,
     "end_time": "2024-04-29T22:02:29.712669",
     "exception": false,
     "start_time": "2024-04-29T22:02:29.684445",
     "status": "completed"
    },
    "tags": []
   },
   "source": [
    "# ⚑ Data Partitioning / Train Test Split"
   ]
  },
  {
   "cell_type": "code",
   "execution_count": null,
   "id": "fa3dbbf7",
   "metadata": {
    "papermill": {
     "duration": 1.158151,
     "end_time": "2024-04-29T22:02:30.898986",
     "exception": false,
     "start_time": "2024-04-29T22:02:29.740835",
     "status": "completed"
    },
    "tags": []
   },
   "outputs": [],
   "source": [
    "X_train, X_test, y_train, y_test = train_test_split(x, y, test_size=0.3, random_state=42, shuffle=True)\n",
    "\n",
    "# Splitted Data\n",
    "print('X_train shape is ' , X_train.shape)\n",
    "print('X_test shape is ' , X_test.shape)\n",
    "print('y_train shape is ' , y_train.shape)\n",
    "print('y_test shape is ' , y_test.shape)"
   ]
  },
  {
   "cell_type": "code",
   "execution_count": null,
   "id": "6d946f8b-f8ba-4ac7-a9d1-5959e6c94264",
   "metadata": {},
   "outputs": [],
   "source": [
    "y_test = pd.Series(y_test.flatten())\n",
    "value_counts = y_test.value_counts()\n",
    "print(value_counts)"
   ]
  },
  {
   "cell_type": "markdown",
   "id": "735dd897",
   "metadata": {
    "papermill": {
     "duration": 0.02767,
     "end_time": "2024-04-29T22:02:30.955137",
     "exception": false,
     "start_time": "2024-04-29T22:02:30.927467",
     "status": "completed"
    },
    "tags": []
   },
   "source": [
    "# ⚑ Data Scaling / Feature Scaling"
   ]
  },
  {
   "cell_type": "code",
   "execution_count": null,
   "id": "209d989b",
   "metadata": {
    "papermill": {
     "duration": 0.691991,
     "end_time": "2024-04-29T22:02:31.674451",
     "exception": false,
     "start_time": "2024-04-29T22:02:30.982460",
     "status": "completed"
    },
    "tags": []
   },
   "outputs": [],
   "source": [
    "scaler = StandardScaler()\n",
    "scaler.fit(X_train)\n",
    "\n",
    "X_train_scaled = scaler.transform(X_train)\n",
    "X_test_scaled = scaler.transform(X_test)"
   ]
  },
  {
   "cell_type": "markdown",
   "id": "6740bbff",
   "metadata": {
    "papermill": {
     "duration": 0.028223,
     "end_time": "2024-04-29T22:02:31.731194",
     "exception": false,
     "start_time": "2024-04-29T22:02:31.702971",
     "status": "completed"
    },
    "tags": []
   },
   "source": [
    "# ⚑ Applying \"Logistic Regression\" Algorithm"
   ]
  },
  {
   "cell_type": "code",
   "execution_count": null,
   "id": "8252ad9e",
   "metadata": {
    "papermill": {
     "duration": 14.461309,
     "end_time": "2024-04-29T22:02:46.220545",
     "exception": false,
     "start_time": "2024-04-29T22:02:31.759236",
     "status": "completed"
    },
    "tags": []
   },
   "outputs": [],
   "source": [
    "from sklearn.linear_model import LogisticRegression\n",
    "from sklearn.metrics import accuracy_score\n",
    "\n",
    "model_LR = LogisticRegression()\n",
    "\n",
    "model_LR.fit(X_train, y_train)\n",
    "\n",
    "y_pred_LR = model_LR.predict(X_test)\n",
    "\n",
    "Train_Accuracy = accuracy_score(y_train, model_LR.predict(X_train))\n",
    "Test_Accuracy = accuracy_score(y_test, y_pred_LR)\n",
    "\n",
    "print(f'Training accuracy: {Train_Accuracy*100:.2f} %')\n",
    "print(f'Testing accuracy: {Test_Accuracy*100:.2f} %')"
   ]
  },
  {
   "cell_type": "markdown",
   "id": "209e452b",
   "metadata": {
    "papermill": {
     "duration": 0.029028,
     "end_time": "2024-04-29T22:02:46.279065",
     "exception": false,
     "start_time": "2024-04-29T22:02:46.250037",
     "status": "completed"
    },
    "tags": []
   },
   "source": [
    "# ⚑ The Evaluation"
   ]
  },
  {
   "cell_type": "code",
   "execution_count": null,
   "id": "3a9f0b50-1df7-40e9-89a3-c594f95e9bc7",
   "metadata": {},
   "outputs": [],
   "source": [
    "import matplotlib.pyplot as plt\n",
    "import seaborn as sns\n",
    "from sklearn.metrics import confusion_matrix\n",
    "\n",
    "plt.figure(figsize=(6, 6))\n",
    "sns.heatmap(confusion_matrix(y_test, y_pred_LR), annot=True, cmap=\"Reds\", fmt=\"d\")\n",
    "\n",
    "plt.title(\"Confusion Matrix\")\n",
    "plt.xlabel(\"Predicted labels\")\n",
    "plt.ylabel(\"True labels\")\n",
    "\n",
    "plt.show()\n"
   ]
  },
  {
   "cell_type": "code",
   "execution_count": null,
   "id": "3175795a",
   "metadata": {
    "papermill": {
     "duration": 3.227544,
     "end_time": "2024-04-29T22:02:50.267752",
     "exception": false,
     "start_time": "2024-04-29T22:02:47.040208",
     "status": "completed"
    },
    "tags": []
   },
   "outputs": [],
   "source": [
    "classification_report_LR = print(classification_report(y_test, y_pred_LR))"
   ]
  },
  {
   "cell_type": "markdown",
   "id": "395ac323",
   "metadata": {
    "papermill": {
     "duration": 0.029967,
     "end_time": "2024-04-29T22:02:53.362195",
     "exception": false,
     "start_time": "2024-04-29T22:02:53.332228",
     "status": "completed"
    },
    "tags": []
   },
   "source": [
    "# ⚑ Applying \"Decision Tree\" Algorithm"
   ]
  },
  {
   "cell_type": "code",
   "execution_count": null,
   "id": "8d86b582",
   "metadata": {
    "papermill": {
     "duration": 48.945363,
     "end_time": "2024-04-29T22:03:42.338028",
     "exception": false,
     "start_time": "2024-04-29T22:02:53.392665",
     "status": "completed"
    },
    "tags": []
   },
   "outputs": [],
   "source": [
    "from sklearn.tree import DecisionTreeClassifier\n",
    "from sklearn.metrics import accuracy_score\n",
    "\n",
    "Model_DT = DecisionTreeClassifier()\n",
    "\n",
    "Model_DT.fit(X_train, y_train)\n",
    "\n",
    "y_pred_DT = Model_DT.predict(X_test)\n",
    "\n",
    "Train_Accuracy = accuracy_score(y_train, Model_DT.predict(X_train))\n",
    "Test_Accuracy = accuracy_score(y_test, y_pred_DT)\n",
    "\n",
    "print(f'Training accuracy: {Train_Accuracy*100:.2f} %')\n",
    "print(f'Testing accuracy: {Test_Accuracy*100:.2f} %')"
   ]
  },
  {
   "cell_type": "markdown",
   "id": "1fc1ba48",
   "metadata": {
    "papermill": {
     "duration": 0.030466,
     "end_time": "2024-04-29T22:03:42.398359",
     "exception": false,
     "start_time": "2024-04-29T22:03:42.367893",
     "status": "completed"
    },
    "tags": []
   },
   "source": [
    "# ⚑ The Evaluation"
   ]
  },
  {
   "cell_type": "code",
   "execution_count": null,
   "id": "fb2aa2a1-3851-46be-98ce-725821ab5db4",
   "metadata": {},
   "outputs": [],
   "source": [
    "import matplotlib.pyplot as plt\n",
    "import seaborn as sns\n",
    "from sklearn.metrics import confusion_matrix\n",
    "\n",
    "plt.figure(figsize=(6, 6))\n",
    "sns.heatmap(confusion_matrix(y_test, y_pred_DT), annot=True, cmap=\"Reds\", fmt=\"d\")\n",
    "\n",
    "plt.title(\"Confusion Matrix\")\n",
    "plt.xlabel(\"Predicted labels\")\n",
    "plt.ylabel(\"True labels\")\n",
    "\n",
    "plt.show()\n"
   ]
  },
  {
   "cell_type": "code",
   "execution_count": null,
   "id": "0972b5cc",
   "metadata": {
    "papermill": {
     "duration": 3.228497,
     "end_time": "2024-04-29T22:03:46.392738",
     "exception": false,
     "start_time": "2024-04-29T22:03:43.164241",
     "status": "completed"
    },
    "tags": []
   },
   "outputs": [],
   "source": [
    "classification_report_DT = print(classification_report(y_test, y_pred_DT))"
   ]
  },
  {
   "cell_type": "markdown",
   "id": "f39db3f6",
   "metadata": {
    "papermill": {
     "duration": 0.031615,
     "end_time": "2024-04-29T22:03:49.527244",
     "exception": false,
     "start_time": "2024-04-29T22:03:49.495629",
     "status": "completed"
    },
    "tags": []
   },
   "source": [
    "# ⚑ Applying \"Naive Bayes\" Algorithm"
   ]
  },
  {
   "cell_type": "code",
   "execution_count": null,
   "id": "9cd9f143",
   "metadata": {
    "papermill": {
     "duration": 2.720932,
     "end_time": "2024-04-29T22:03:52.279994",
     "exception": false,
     "start_time": "2024-04-29T22:03:49.559062",
     "status": "completed"
    },
    "tags": []
   },
   "outputs": [],
   "source": [
    "from sklearn.naive_bayes import GaussianNB\n",
    "from sklearn.metrics import accuracy_score\n",
    "Model_NB = GaussianNB()\n",
    "\n",
    "# Train the model\n",
    "Model_NB.fit(X_train, y_train)\n",
    "\n",
    "# Make predictions\n",
    "y_pred_NB = Model_NB.predict(X_test)\n",
    "\n",
    "# Calculate accuracies\n",
    "Train_Accuracy = accuracy_score(y_train, Model_NB.predict(X_train))\n",
    "Test_Accuracy = accuracy_score(y_test, y_pred)\n",
    "\n",
    "# Print accuracies\n",
    "print(f'Training accuracy: {Train_Accuracy*100:.2f} %')\n",
    "print(f'Testing accuracy: {Test_Accuracy*100:.2f} %')"
   ]
  },
  {
   "cell_type": "markdown",
   "id": "f27b841a",
   "metadata": {
    "papermill": {
     "duration": 0.031766,
     "end_time": "2024-04-29T22:03:52.344248",
     "exception": false,
     "start_time": "2024-04-29T22:03:52.312482",
     "status": "completed"
    },
    "tags": []
   },
   "source": [
    "# ⚑ The Evaluation"
   ]
  },
  {
   "cell_type": "code",
   "execution_count": null,
   "id": "124846c2-d829-426d-9e7e-20025af8775e",
   "metadata": {},
   "outputs": [],
   "source": [
    "import matplotlib.pyplot as plt\n",
    "import seaborn as sns\n",
    "from sklearn.metrics import confusion_matrix\n",
    "\n",
    "plt.figure(figsize=(6, 6))\n",
    "sns.heatmap(confusion_matrix(y_test, y_pred_NB), annot=True, cmap=\"Reds\", fmt=\"d\")\n",
    "\n",
    "plt.title(\"Confusion Matrix\")\n",
    "plt.xlabel(\"Predicted labels\")\n",
    "plt.ylabel(\"True labels\")\n",
    "\n",
    "plt.show()\n"
   ]
  },
  {
   "cell_type": "code",
   "execution_count": null,
   "id": "4a48b527",
   "metadata": {
    "papermill": {
     "duration": 3.217887,
     "end_time": "2024-04-29T22:03:56.330306",
     "exception": false,
     "start_time": "2024-04-29T22:03:53.112419",
     "status": "completed"
    },
    "tags": []
   },
   "outputs": [],
   "source": [
    "classification_report_NB = print(classification_report(y_test, y_pred_NB))"
   ]
  },
  {
   "cell_type": "markdown",
   "id": "fb2888c7-5ec2-4fe2-850a-991222a0b81f",
   "metadata": {},
   "source": [
    "# ⚑ Applying \"RandomForestClassifier\" Algorithm"
   ]
  },
  {
   "cell_type": "code",
   "execution_count": null,
   "id": "5e376587-0152-4007-9706-6cbf01cf7ef6",
   "metadata": {},
   "outputs": [],
   "source": [
    "from sklearn.ensemble import RandomForestClassifier\n",
    "from sklearn.metrics import accuracy_score\n",
    "\n",
    "rfc = RandomForestClassifier()\n",
    "\n",
    "rfc.fit(X_train, y_train)\n",
    "\n",
    "y_pred_rfc = rfc.predict(X_test)\n",
    "\n",
    "Train_Accuracy_rfc = accuracy_score(y_train, rfc.predict(X_train))\n",
    "Test_Accuracy_rfc = accuracy_score(y_test, y_pred_rfc)\n",
    "\n",
    "print(f'Training accuracy: {Train_Accuracy_rfc*100:.2f} %')\n",
    "print(f'Testing accuracy: {Test_Accuracy_rfc*100:.2f} %')"
   ]
  },
  {
   "cell_type": "markdown",
   "id": "ce39c242-8451-4fd1-9ea4-8b3ff7ba6330",
   "metadata": {},
   "source": [
    "# ⚑ The Evaluation"
   ]
  },
  {
   "cell_type": "code",
   "execution_count": null,
   "id": "03ad0d84-cfcd-4310-a968-ff0dc80526b4",
   "metadata": {},
   "outputs": [],
   "source": [
    "import matplotlib.pyplot as plt\n",
    "import seaborn as sns\n",
    "from sklearn.metrics import confusion_matrix\n",
    "\n",
    "plt.figure(figsize=(6, 6))\n",
    "sns.heatmap(confusion_matrix(y_test, y_pred_rfc), annot=True, cmap=\"Reds\", fmt=\"d\")\n",
    "\n",
    "plt.title(\"Confusion Matrix\")\n",
    "plt.xlabel(\"Predicted labels\")\n",
    "plt.ylabel(\"True labels\")\n",
    "\n",
    "plt.show()\n"
   ]
  },
  {
   "cell_type": "code",
   "execution_count": null,
   "id": "4b4042db-be17-41f4-9d57-baa6a869a204",
   "metadata": {},
   "outputs": [],
   "source": [
    "classification_report_DT = print(classification_report(y_test, y_pred_rfc))"
   ]
  },
  {
   "cell_type": "markdown",
   "id": "eed8d5ec-09bd-45ab-ac3f-6d878d2b17ae",
   "metadata": {},
   "source": [
    "# ⚑ Applying \"KNN\" Algorithm"
   ]
  },
  {
   "cell_type": "code",
   "execution_count": null,
   "id": "db91ae70-0ea8-4779-b44f-98ecf0f00698",
   "metadata": {},
   "outputs": [],
   "source": [
    "from sklearn.neighbors import KNeighborsClassifier\n",
    "from sklearn.metrics import accuracy_score\n",
    "\n",
    "knn = KNeighborsClassifier()\n",
    "\n",
    "knn.fit(X_train, y_train)\n",
    "\n",
    "y_pred_knn = knn.predict(X_test)\n",
    "\n",
    "Train_Accuracy_knn = accuracy_score(y_train, knn.predict(X_train))\n",
    "Test_Accuracy_knn = accuracy_score(y_test, y_pred_knn)\n",
    "\n",
    "print(f'Training accuracy: {Train_Accuracy_knn*100:.2f} %')\n",
    "print(f'Testing accuracy: {Test_Accuracy_knn*100:.2f} %')"
   ]
  },
  {
   "cell_type": "markdown",
   "id": "2bf37e18-9597-4283-9838-14651c562416",
   "metadata": {},
   "source": [
    "# ⚑ The Evaluation"
   ]
  },
  {
   "cell_type": "code",
   "execution_count": null,
   "id": "92296e3f-7448-444d-81b5-e37e33473662",
   "metadata": {},
   "outputs": [],
   "source": [
    "import matplotlib.pyplot as plt\n",
    "import seaborn as sns\n",
    "from sklearn.metrics import confusion_matrix\n",
    "\n",
    "plt.figure(figsize=(6, 6))\n",
    "sns.heatmap(confusion_matrix(y_test, y_pred_knn), annot=True, cmap=\"Reds\", fmt=\"d\")\n",
    "\n",
    "plt.title(\"Confusion Matrix\")\n",
    "plt.xlabel(\"Predicted labels\")\n",
    "plt.ylabel(\"True labels\")\n",
    "\n",
    "plt.show()\n"
   ]
  },
  {
   "cell_type": "code",
   "execution_count": null,
   "id": "c55ca93b-07cc-4f0e-a2c4-9eda3c8a10f7",
   "metadata": {},
   "outputs": [],
   "source": [
    "classification_report_DT = print(classification_report(y_test, y_pred_knn))"
   ]
  },
  {
   "cell_type": "markdown",
   "id": "c479d125-6b36-447f-8482-570652e92507",
   "metadata": {},
   "source": [
    "# ⚑ Applying \"XGB\" Algorithm"
   ]
  },
  {
   "cell_type": "code",
   "execution_count": null,
   "id": "0e6da9e4-2159-4ffe-b446-1dfab04ef1c5",
   "metadata": {},
   "outputs": [],
   "source": [
    "import xgboost as xgb\n",
    "from sklearn.metrics import accuracy_score\n",
    "xgb_model = xgb.XGBClassifier()\n",
    "\n",
    "xgb_model.fit(X_train, y_train)\n",
    "\n",
    "y_pred_xgb = xgb_model.predict(X_test)\n",
    "\n",
    "Train_Accuracy_xgb = accuracy_score(y_train, xgb_model.predict(X_train))\n",
    "Test_Accuracy_xgb = accuracy_score(y_test, y_pred_xgb)\n",
    "\n",
    "print(f'Training accuracy: {Train_Accuracy_xgb*100:.2f} %')\n",
    "print(f'Testing accuracy: {Test_Accuracy_xgb*100:.2f} %')"
   ]
  },
  {
   "cell_type": "markdown",
   "id": "323fdab7-76b6-4ccd-b4f9-55c2439887df",
   "metadata": {},
   "source": [
    "# ⚑ The Evaluation"
   ]
  },
  {
   "cell_type": "code",
   "execution_count": null,
   "id": "e795a98a-b144-4f50-9ff6-c8a5a9ee25f8",
   "metadata": {},
   "outputs": [],
   "source": [
    "import matplotlib.pyplot as plt\n",
    "import seaborn as sns\n",
    "from sklearn.metrics import confusion_matrix\n",
    "\n",
    "plt.figure(figsize=(6, 6))\n",
    "sns.heatmap(confusion_matrix(y_test, y_pred_xgb), annot=True, cmap=\"Reds\", fmt=\"d\")\n",
    "\n",
    "plt.title(\"Confusion Matrix\")\n",
    "plt.xlabel(\"Predicted labels\")\n",
    "plt.ylabel(\"True labels\")\n",
    "\n",
    "plt.show()\n"
   ]
  },
  {
   "cell_type": "code",
   "execution_count": null,
   "id": "03b6425d-58de-4b1a-b1af-d2454590d675",
   "metadata": {},
   "outputs": [],
   "source": [
    "classification_report_DT = print(classification_report(y_test, y_pred_xgb))"
   ]
  },
  {
   "cell_type": "markdown",
   "id": "9d238588-3480-4cfa-9251-1745b0bdcd94",
   "metadata": {},
   "source": [
    "# Pick the best model"
   ]
  },
  {
   "cell_type": "code",
   "execution_count": null,
   "id": "ad738325",
   "metadata": {
    "papermill": {
     "duration": 0.049303,
     "end_time": "2024-04-29T22:03:59.462072",
     "exception": false,
     "start_time": "2024-04-29T22:03:59.412769",
     "status": "completed"
    },
    "tags": []
   },
   "outputs": [],
   "source": [
    "evaluation = pd.DataFrame({'Model': ['Logistic Regression','Decision Tree', 'Naive Bayes' , 'RandomForestClassifier' , 'KNN' , 'XGB'],\n",
    "                           'Accuracy': [(Train_Accuracy*100), (Train_Accuracy*100), (Train_Accuracy*100) , (Train_Accuracy_rfc*100) , (Train_Accuracy_knn*100)\n",
    "                                       , (Train_Accuracy_xgb*100)]})\n",
    "\n",
    "evaluation"
   ]
  },
  {
   "cell_type": "code",
   "execution_count": null,
   "id": "c0fca3f7-f970-4dd4-8dee-a3d9cc8bb94c",
   "metadata": {},
   "outputs": [],
   "source": [
    "import plotly.express as px\n",
    "\n",
    "# Assuming evaluation is your DataFrame\n",
    "fig = px.bar(evaluation, x='Model', y='Accuracy', title='Models', \n",
    "             labels={'Accuracy': 'Accuracy', 'Model': 'Models'},\n",
    "             color_discrete_sequence=px.colors.sequential.Viridis)\n",
    "fig.show()\n"
   ]
  },
  {
   "cell_type": "markdown",
   "id": "0f716758-d6c2-4de5-8570-75073952add4",
   "metadata": {},
   "source": [
    "# Prediction for new data"
   ]
  },
  {
   "cell_type": "code",
   "execution_count": null,
   "id": "977182d9-caa7-4f89-9438-48e874db4235",
   "metadata": {},
   "outputs": [],
   "source": [
    "new_data = [[2,9839.64,170136.0,160296.36]]\n",
    "if  model.predict(new_data)[0] == 0:\n",
    "    print('not Fraud')\n",
    "else: print('is Fraud')"
   ]
  },
  {
   "cell_type": "markdown",
   "id": "9205a260-ec0d-40ea-b2a6-fe067eb443da",
   "metadata": {},
   "source": [
    "# Cluster"
   ]
  },
  {
   "cell_type": "code",
   "execution_count": null,
   "id": "c5753166-0781-4850-967f-3092ceb64926",
   "metadata": {},
   "outputs": [],
   "source": [
    "from sklearn.cluster import KMeans\n",
    "import matplotlib.pyplot as plt\n",
    "\n",
    "K_values = range(1, 4)\n",
    "sse = []\n",
    "\n",
    "for K in K_values:\n",
    "    kmeans = KMeans(n_clusters=K)\n",
    "    kmeans.fit(X_train)\n",
    "    sse.append(kmeans.inertia_)\n",
    "\n",
    "plt.plot(K_values, sse)\n",
    "plt.xlabel('Number of clusters (K)')\n",
    "plt.ylabel('Sum of Squared Errors (SSE)')\n",
    "plt.title('Elbow Method')\n",
    "plt.show()"
   ]
  },
  {
   "cell_type": "code",
   "execution_count": null,
   "id": "010f9f3d-3b7f-4360-a6b7-b12e456a0d80",
   "metadata": {},
   "outputs": [],
   "source": [
    "plt.figure(figsize=(8, 6))\n",
    "sns.scatterplot(x=df.iloc[:,3], y=df.iloc[:,4], hue=df[\"isFraud\"].array)\n",
    "plt.title('Scatter Plot of Clusters')\n",
    "plt.show()"
   ]
  },
  {
   "cell_type": "code",
   "execution_count": null,
   "id": "9ad75ba5-99a0-4bc3-b92c-b159f7c3881a",
   "metadata": {},
   "outputs": [],
   "source": [
    "sns.pairplot(df)\n",
    "plt.show()"
   ]
  },
  {
   "cell_type": "code",
   "execution_count": null,
   "id": "5dc9009b-86fb-4c26-a268-c3b2bd509ba8",
   "metadata": {},
   "outputs": [],
   "source": []
  }
 ],
 "metadata": {
  "kaggle": {
   "accelerator": "none",
   "dataSources": [
    {
     "datasetId": 2093649,
     "sourceId": 3478314,
     "sourceType": "datasetVersion"
    }
   ],
   "dockerImageVersionId": 30698,
   "isGpuEnabled": false,
   "isInternetEnabled": true,
   "language": "python",
   "sourceType": "notebook"
  },
  "kernelspec": {
   "display_name": "Python 3 (ipykernel)",
   "language": "python",
   "name": "python3"
  },
  "language_info": {
   "codemirror_mode": {
    "name": "ipython",
    "version": 3
   },
   "file_extension": ".py",
   "mimetype": "text/x-python",
   "name": "python",
   "nbconvert_exporter": "python",
   "pygments_lexer": "ipython3",
   "version": "3.9.13"
  },
  "papermill": {
   "default_parameters": {},
   "duration": 175.41539,
   "end_time": "2024-04-29T22:04:00.618597",
   "environment_variables": {},
   "exception": null,
   "input_path": "__notebook__.ipynb",
   "output_path": "__notebook__.ipynb",
   "parameters": {},
   "start_time": "2024-04-29T22:01:05.203207",
   "version": "2.5.0"
  }
 },
 "nbformat": 4,
 "nbformat_minor": 5
}
